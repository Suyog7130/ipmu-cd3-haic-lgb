{
 "cells": [
  {
   "cell_type": "markdown",
   "id": "9f79e252-2da3-4bf6-942b-bb88eab4937b",
   "metadata": {},
   "source": [
    "# Prepare XYZ catalogs for Jackknife Covariance Estimation\n",
    "\n",
    "Script to take in Uchuu UM snapshots, divide the volume into sub-volumes for jackknife 'leave-one-out' covariance estimation (different script). Randoms are also created here with the same sub-volumes identified, even though the number of RR pairs in simple volumes can be computed analytically.\n",
    "\n",
    "Note that this needs to be done for each redshift snapshot and for each selection of galaxies from said snapshot (here we make a cut on MUV)."
   ]
  },
  {
   "cell_type": "code",
   "execution_count": 1,
   "id": "eae67417-cdbb-492b-9f29-acc69a47ef54",
   "metadata": {},
   "outputs": [],
   "source": [
    "# Python script to cut up the Uchuu box into smaller subboxes with length Lbox. Creates randoms for the Uchuu box and also finds the ID for the subbox. Prints .fits file with galaxy/random ID, X/Y/Z positions, and for the galaxies, vx, vy, vz for redshift-space measurements. -KSM\n",
    "import h5py\n",
    "import numpy as np\n",
    "import matplotlib.pyplot as plt\n",
    "from astropy.cosmology import FlatLambdaCDM\n",
    "from hmf import MassFunction\n",
    "from hmf import cosmo\n",
    "import os\n",
    "from scipy.interpolate import interp1d, InterpolatedUnivariateSpline\n",
    "import latex\n",
    "plt.rcParams['text.usetex'] = False\n",
    "import sys\n",
    "import scipy.stats as scs\n",
    "from astropy.table import Table"
   ]
  },
  {
   "cell_type": "code",
   "execution_count": 2,
   "id": "7be4f7f3-74af-430f-8270-df3058dfdc78",
   "metadata": {},
   "outputs": [],
   "source": [
    "DATAdir = './data'"
   ]
  },
  {
   "cell_type": "code",
   "execution_count": 3,
   "id": "80c9837c-e7c4-43f9-a137-f0c53c5aa027",
   "metadata": {},
   "outputs": [],
   "source": [
    "# Uchuu uses the following cosmology: \n",
    "# Planck2015 (table 4, rightmost column)\n",
    "#Ω_m = 0.3089 Ω_L = 0.6911 h = 0.6774\n",
    "#σ_8 = 0.8159 Ω_b = 0.0486 ns = 0.9667\n",
    "#Linear Power Spectrum\n",
    "#z_init = 127 (2LPT)\n",
    "## Uchuu is 2000 Mpc/h on a side \n",
    "Om0 = 0.3089\n",
    "h = 0.6774\n",
    "H0 = 100*h\n",
    "z_sim = 2.95\n",
    "ns = 0.9667\n",
    "sigma8 = 0.8159\n",
    "Ob0 = 0.0486\n",
    "Tcmb0 = 2.718\n",
    "LOS = 'z'\n",
    "Lbox = 250 # This produces 512 subvolumes from which we can create a covariance matrix for the summary statistics.\n",
    "# 250 Mpc/h is about areaBOX = 10.7 deg^2 in surface area at z_sim = 2.95 \n",
    "Lfull = 2000.0 #Mpc/h"
   ]
  },
  {
   "cell_type": "code",
   "execution_count": 4,
   "id": "d8c9ff5f-7007-4521-aeff-b494b8254b94",
   "metadata": {},
   "outputs": [],
   "source": [
    "## Simulation details\n",
    "Ucosmo=FlatLambdaCDM(H0=H0,Om0=Om0,Ob0=Ob0,Tcmb0=Tcmb0)\n",
    "Dv = Ucosmo.comoving_distance(z_sim).value*h\n",
    "\n",
    "arclenF = Lfull/Dv*180./np.pi # degrees\n",
    "areaF = arclenF**2 # deg^2 surface area \n",
    "AREAfull = areaF*60**2 # arcmin^2 \n",
    "VOLfull=Lfull**3 # (Mpc/h)^3\n",
    "\n",
    "arclenB = Lbox/Dv*180./np.pi # degrees\n",
    "areaB = arclenB**2 # deg^2 surface area \n",
    "AREAbox = areaB*60**2 # arcmin^2\n",
    "VOLbox=Lbox**3 # (Mpc/h)^3\n",
    "\n",
    "Nbins = int(Lfull/Lbox)\n",
    "BINcell = np.arange(0,Lfull+Lbox,Lbox)"
   ]
  },
  {
   "cell_type": "code",
   "execution_count": 5,
   "id": "ae054bdb-2530-4bfc-8989-36616dcec362",
   "metadata": {
    "scrolled": true
   },
   "outputs": [
    {
     "ename": "FileNotFoundError",
     "evalue": "[Errno 2] Unable to open file (unable to open file: name = './data/Uchuu/UM/Uchuu_UM_z2p95_data1.h5', errno = 2, error message = 'No such file or directory', flags = 0, o_flags = 0)",
     "output_type": "error",
     "traceback": [
      "\u001b[0;31m---------------------------------------------------------------------------\u001b[0m",
      "\u001b[0;31mFileNotFoundError\u001b[0m                         Traceback (most recent call last)",
      "Cell \u001b[0;32mIn[5], line 3\u001b[0m\n\u001b[1;32m      1\u001b[0m \u001b[38;5;66;03m## Data files\u001b[39;00m\n\u001b[1;32m      2\u001b[0m \u001b[38;5;66;03m# Data1 ID,upid,Mvir,sm,icl,sfr,obs_sm,obs_sfr,obs_uv \u001b[39;00m\n\u001b[0;32m----> 3\u001b[0m data1 \u001b[38;5;241m=\u001b[39m   h5py\u001b[38;5;241m.\u001b[39mFile(DATAdir\u001b[38;5;241m+\u001b[39m\u001b[38;5;124m'\u001b[39m\u001b[38;5;124m/Uchuu/UM/Uchuu_UM_z2p95_data1.h5\u001b[39m\u001b[38;5;124m'\u001b[39m,\u001b[38;5;124m'\u001b[39m\u001b[38;5;124mr\u001b[39m\u001b[38;5;124m'\u001b[39m)\n\u001b[1;32m      4\u001b[0m \u001b[38;5;66;03m# Data2 x,y,z\u001b[39;00m\n\u001b[1;32m      5\u001b[0m data2 \u001b[38;5;241m=\u001b[39m h5py\u001b[38;5;241m.\u001b[39mFile(DATAdir\u001b[38;5;241m+\u001b[39m\u001b[38;5;124m'\u001b[39m\u001b[38;5;124m/Uchuu/UM/Uchuu_UM_z2p95_data2.h5\u001b[39m\u001b[38;5;124m'\u001b[39m,\u001b[38;5;124m'\u001b[39m\u001b[38;5;124mr\u001b[39m\u001b[38;5;124m'\u001b[39m)\n",
      "File \u001b[0;32m~/miniconda3/envs/pfs/lib/python3.12/site-packages/h5py/_hl/files.py:562\u001b[0m, in \u001b[0;36mFile.__init__\u001b[0;34m(self, name, mode, driver, libver, userblock_size, swmr, rdcc_nslots, rdcc_nbytes, rdcc_w0, track_order, fs_strategy, fs_persist, fs_threshold, fs_page_size, page_buf_size, min_meta_keep, min_raw_keep, locking, alignment_threshold, alignment_interval, meta_block_size, **kwds)\u001b[0m\n\u001b[1;32m    553\u001b[0m     fapl \u001b[38;5;241m=\u001b[39m make_fapl(driver, libver, rdcc_nslots, rdcc_nbytes, rdcc_w0,\n\u001b[1;32m    554\u001b[0m                      locking, page_buf_size, min_meta_keep, min_raw_keep,\n\u001b[1;32m    555\u001b[0m                      alignment_threshold\u001b[38;5;241m=\u001b[39malignment_threshold,\n\u001b[1;32m    556\u001b[0m                      alignment_interval\u001b[38;5;241m=\u001b[39malignment_interval,\n\u001b[1;32m    557\u001b[0m                      meta_block_size\u001b[38;5;241m=\u001b[39mmeta_block_size,\n\u001b[1;32m    558\u001b[0m                      \u001b[38;5;241m*\u001b[39m\u001b[38;5;241m*\u001b[39mkwds)\n\u001b[1;32m    559\u001b[0m     fcpl \u001b[38;5;241m=\u001b[39m make_fcpl(track_order\u001b[38;5;241m=\u001b[39mtrack_order, fs_strategy\u001b[38;5;241m=\u001b[39mfs_strategy,\n\u001b[1;32m    560\u001b[0m                      fs_persist\u001b[38;5;241m=\u001b[39mfs_persist, fs_threshold\u001b[38;5;241m=\u001b[39mfs_threshold,\n\u001b[1;32m    561\u001b[0m                      fs_page_size\u001b[38;5;241m=\u001b[39mfs_page_size)\n\u001b[0;32m--> 562\u001b[0m     fid \u001b[38;5;241m=\u001b[39m make_fid(name, mode, userblock_size, fapl, fcpl, swmr\u001b[38;5;241m=\u001b[39mswmr)\n\u001b[1;32m    564\u001b[0m \u001b[38;5;28;01mif\u001b[39;00m \u001b[38;5;28misinstance\u001b[39m(libver, \u001b[38;5;28mtuple\u001b[39m):\n\u001b[1;32m    565\u001b[0m     \u001b[38;5;28mself\u001b[39m\u001b[38;5;241m.\u001b[39m_libver \u001b[38;5;241m=\u001b[39m libver\n",
      "File \u001b[0;32m~/miniconda3/envs/pfs/lib/python3.12/site-packages/h5py/_hl/files.py:235\u001b[0m, in \u001b[0;36mmake_fid\u001b[0;34m(name, mode, userblock_size, fapl, fcpl, swmr)\u001b[0m\n\u001b[1;32m    233\u001b[0m     \u001b[38;5;28;01mif\u001b[39;00m swmr \u001b[38;5;129;01mand\u001b[39;00m swmr_support:\n\u001b[1;32m    234\u001b[0m         flags \u001b[38;5;241m|\u001b[39m\u001b[38;5;241m=\u001b[39m h5f\u001b[38;5;241m.\u001b[39mACC_SWMR_READ\n\u001b[0;32m--> 235\u001b[0m     fid \u001b[38;5;241m=\u001b[39m h5f\u001b[38;5;241m.\u001b[39mopen(name, flags, fapl\u001b[38;5;241m=\u001b[39mfapl)\n\u001b[1;32m    236\u001b[0m \u001b[38;5;28;01melif\u001b[39;00m mode \u001b[38;5;241m==\u001b[39m \u001b[38;5;124m'\u001b[39m\u001b[38;5;124mr+\u001b[39m\u001b[38;5;124m'\u001b[39m:\n\u001b[1;32m    237\u001b[0m     fid \u001b[38;5;241m=\u001b[39m h5f\u001b[38;5;241m.\u001b[39mopen(name, h5f\u001b[38;5;241m.\u001b[39mACC_RDWR, fapl\u001b[38;5;241m=\u001b[39mfapl)\n",
      "File \u001b[0;32mh5py/_objects.pyx:54\u001b[0m, in \u001b[0;36mh5py._objects.with_phil.wrapper\u001b[0;34m()\u001b[0m\n",
      "File \u001b[0;32mh5py/_objects.pyx:55\u001b[0m, in \u001b[0;36mh5py._objects.with_phil.wrapper\u001b[0;34m()\u001b[0m\n",
      "File \u001b[0;32mh5py/h5f.pyx:102\u001b[0m, in \u001b[0;36mh5py.h5f.open\u001b[0;34m()\u001b[0m\n",
      "\u001b[0;31mFileNotFoundError\u001b[0m: [Errno 2] Unable to open file (unable to open file: name = './data/Uchuu/UM/Uchuu_UM_z2p95_data1.h5', errno = 2, error message = 'No such file or directory', flags = 0, o_flags = 0)"
     ]
    }
   ],
   "source": [
    "## Data files\n",
    "# Data1 ID,upid,Mvir,sm,icl,sfr,obs_sm,obs_sfr,obs_uv \n",
    "data1 =   h5py.File(DATAdir+'/Uchuu/UM/Uchuu_UM_z2p95_data1.h5','r')\n",
    "# Data2 x,y,z\n",
    "data2 = h5py.File(DATAdir+'/Uchuu/UM/Uchuu_UM_z2p95_data2.h5','r')\n",
    "# Data3 ID,vx,vy,vz,Mpeak,Vmax_Mpeak,vmax,A_UV\n",
    "data3 =  h5py.File(DATAdir+'/Uchuu/UM/Uchuu_UM_z2p95_data3.h5','r')\n"
   ]
  },
  {
   "cell_type": "code",
   "execution_count": 6,
   "id": "a26b3de5-2e57-4058-b967-d3e93f36c711",
   "metadata": {},
   "outputs": [
    {
     "ename": "NameError",
     "evalue": "name 'data1' is not defined",
     "output_type": "error",
     "traceback": [
      "\u001b[0;31m---------------------------------------------------------------------------\u001b[0m",
      "\u001b[0;31mNameError\u001b[0m                                 Traceback (most recent call last)",
      "Cell \u001b[0;32mIn[6], line 2\u001b[0m\n\u001b[1;32m      1\u001b[0m MuvCUT \u001b[38;5;241m=\u001b[39m \u001b[38;5;241m-\u001b[39m\u001b[38;5;241m22.1\u001b[39m\n\u001b[0;32m----> 2\u001b[0m obs_uvUM \u001b[38;5;241m=\u001b[39m data1[\u001b[38;5;124m'\u001b[39m\u001b[38;5;124mobs_uv\u001b[39m\u001b[38;5;124m'\u001b[39m][:]\n\u001b[1;32m      3\u001b[0m cut \u001b[38;5;241m=\u001b[39m obs_uvUM \u001b[38;5;241m<\u001b[39m\u001b[38;5;241m=\u001b[39m MuvCUT\n\u001b[1;32m      4\u001b[0m obs_uvUM \u001b[38;5;241m=\u001b[39m obs_uvUM[cut]\n",
      "\u001b[0;31mNameError\u001b[0m: name 'data1' is not defined"
     ]
    }
   ],
   "source": [
    "## Cut on MUV\n",
    "MuvCUT = -22.1\n",
    "\n",
    "obs_uvUM = data1['obs_uv'][:]\n",
    "cut = obs_uvUM <= MuvCUT\n",
    "obs_uvUM = obs_uvUM[cut]\n",
    "obs_sfrUM = data1['obs_sfr'][cut]\n",
    "obs_smUM = data1['obs_sm'][cut]\n",
    "ID_UM = data1['id'][cut]\n",
    "UPID_UM = data1['upid'][cut]\n",
    "Mvir_UM = data1['Mvir'][cut]\n",
    "xUM = data2['x'][cut]\n",
    "yUM = data2['y'][cut]\n",
    "zUM = data2['z'][cut]\n",
    "Mpeak_UM = data3['Mpeak'][cut]\n",
    "Vpeak_UM = data3['Vmax_Mpeak'][cut]\n",
    "Vmax_UM = data3['vmax'][cut]\n",
    "AuvUM = data3['A_UV'][cut]\n",
    "vxUM = data3['vx'][cut]\n",
    "vyUM = data3['vy'][cut]\n",
    "vzUM = data3['vz'][cut]"
   ]
  },
  {
   "cell_type": "code",
   "execution_count": 7,
   "id": "3cfbb195-7d9f-4ee5-8cd1-4dd3f70ede01",
   "metadata": {},
   "outputs": [
    {
     "ename": "NameError",
     "evalue": "name 'xUM' is not defined",
     "output_type": "error",
     "traceback": [
      "\u001b[0;31m---------------------------------------------------------------------------\u001b[0m",
      "\u001b[0;31mNameError\u001b[0m                                 Traceback (most recent call last)",
      "Cell \u001b[0;32mIn[7], line 1\u001b[0m\n\u001b[0;32m----> 1\u001b[0m Ngal \u001b[38;5;241m=\u001b[39m \u001b[38;5;28mlen\u001b[39m(xUM)\n\u001b[1;32m      2\u001b[0m Nbins \u001b[38;5;241m=\u001b[39m \u001b[38;5;28mint\u001b[39m(Lfull\u001b[38;5;241m/\u001b[39mLbox)\n\u001b[1;32m      3\u001b[0m BINcell \u001b[38;5;241m=\u001b[39m np\u001b[38;5;241m.\u001b[39marange(\u001b[38;5;241m0\u001b[39m,Lfull\u001b[38;5;241m+\u001b[39mLbox,Lbox)\n",
      "\u001b[0;31mNameError\u001b[0m: name 'xUM' is not defined"
     ]
    }
   ],
   "source": [
    "Ngal = len(xUM)\n",
    "Nbins = int(Lfull/Lbox)\n",
    "BINcell = np.arange(0,Lfull+Lbox,Lbox)\n",
    "IDboxGAL = np.zeros(Ngal) - 99\n",
    "\n",
    "stat,xE,yE,BINnumGAL = scs.binned_statistic_2d(xUM,yUM,ID_UM,bins=BINcell)\n",
    "zDIGgal = np.digitize(zUM,bins=BINcell)\n",
    "\n",
    "idBOXgal = []\n",
    "numBOXgal = []\n",
    "for i in range(1,Nbins+1):\n",
    "    for j in range(1,Nbins+1):\n",
    "        NUM = '{}{}'.format(i,j)\n",
    "        zDIGtmp = zDIGgal[BINnumGAL==int(NUM)]\n",
    "        IDtmp = ID_UM[BINnumGAL==int(NUM)]\n",
    "        for k in range(1,Nbins+2):\n",
    "             numBOXgal.append(NUM+'{}'.format(k))\n",
    "             idBOXgal.append(IDtmp[zDIGtmp==k])\n",
    "\n",
    "\n",
    "for i in range(0,len(idBOXgal)):\n",
    "    IDboxGAL[np.isin(ID_UM,idBOXgal[i])] = numBOXgal[i]\n",
    "\n",
    "Tgal = Table([ID_UM, IDboxGAL.astype(int),xUM, yUM, zUM, vxUM, vyUM, vzUM],names=('ID_gal','ID_jack','x', 'y','z', 'vx', 'vy', 'vz'))\n",
    "Tgal.write('{}'.format(ROOT)+'/Uchuu/UM/Uchuu_UM_z2p95_Muv_m{}_jack.fits'.format(abs(MuvCUT)), overwrite=True)\n",
    "\n"
   ]
  },
  {
   "cell_type": "code",
   "execution_count": 8,
   "id": "e849245f-8d55-47a0-b93e-c4df95b09a3e",
   "metadata": {},
   "outputs": [
    {
     "ename": "NameError",
     "evalue": "name 'Ngal' is not defined",
     "output_type": "error",
     "traceback": [
      "\u001b[0;31m---------------------------------------------------------------------------\u001b[0m",
      "\u001b[0;31mNameError\u001b[0m                                 Traceback (most recent call last)",
      "Cell \u001b[0;32mIn[8], line 2\u001b[0m\n\u001b[1;32m      1\u001b[0m \u001b[38;5;66;03m## Create randoms and split into sub-volumes\u001b[39;00m\n\u001b[0;32m----> 2\u001b[0m Nrand \u001b[38;5;241m=\u001b[39m \u001b[38;5;241m25\u001b[39m\u001b[38;5;241m*\u001b[39mNgal\n\u001b[1;32m      3\u001b[0m seed \u001b[38;5;241m=\u001b[39m \u001b[38;5;241m42\u001b[39m\n\u001b[1;32m      4\u001b[0m np\u001b[38;5;241m.\u001b[39mrandom\u001b[38;5;241m.\u001b[39mseed(seed)\n",
      "\u001b[0;31mNameError\u001b[0m: name 'Ngal' is not defined"
     ]
    }
   ],
   "source": [
    "## Create randoms and split into sub-volumes\n",
    "Nrand = 25*Ngal\n",
    "seed = 42\n",
    "np.random.seed(seed)\n",
    "Xrand = np.random.uniform(0, Lfull, Nrand)\n",
    "Yrand = np.random.uniform(0, Lfull, Nrand)\n",
    "Zrand = np.random.uniform(0, Lfull, Nrand)\n",
    "IDrand = np.arange(0,Nrand,1)\n",
    "\n",
    "stat,xE,yE,BINnumRAND = scs.binned_statistic_2d(Xrand,Yrand,IDrand,bins=BINcell)\n",
    "zDIGrand = np.digitize(Zrand,bins=BINcell)\n",
    "\n",
    "IDboxRAND = np.zeros(Nrand) - 99\n",
    "\n",
    "idBOXrand = []\n",
    "numBOXrand = []\n",
    "for i in range(1,Nbins+1):\n",
    "    for j in range(1,Nbins+1):\n",
    "        NUM = '{}{}'.format(i,j)\n",
    "        zDIGtmp = zDIGrand[BINnumRAND==int(NUM)]\n",
    "        IDtmp = IDrand[BINnumRAND==int(NUM)]\n",
    "        for k in range(1,Nbins+1):\n",
    "             numBOXrand.append(NUM+'{}'.format(k))\n",
    "             idBOXrand.append(IDtmp[zDIGtmp==k])\n",
    "\n",
    "for i in range(0,len(idBOXrand)):\n",
    "    IDboxRAND[np.isin(IDrand,idBOXrand[i])] = numBOXrand[i]\n",
    "\n",
    "Trand = Table([IDrand, IDboxRAND.astype(int),Xrand, Yrand, Zrand],names=('ID_rand','ID_jack','x', 'y','z'))\n",
    "Trand.write('{}'.format(ROOT)+'/Uchuu/UM/Uchuu_UM_randoms_z2p95_Muv_m{}_jack.fits'.format(abs(MuvCUT)), overwrite=True)\n",
    "\n"
   ]
  },
  {
   "cell_type": "code",
   "execution_count": null,
   "id": "a5f947e1-d521-4d10-ae98-957204e4d5af",
   "metadata": {},
   "outputs": [],
   "source": []
  }
 ],
 "metadata": {
  "kernelspec": {
   "display_name": "Python 3 (ipykernel)",
   "language": "python",
   "name": "python3"
  },
  "language_info": {
   "codemirror_mode": {
    "name": "ipython",
    "version": 3
   },
   "file_extension": ".py",
   "mimetype": "text/x-python",
   "name": "python",
   "nbconvert_exporter": "python",
   "pygments_lexer": "ipython3",
   "version": "3.12.3"
  }
 },
 "nbformat": 4,
 "nbformat_minor": 5
}
